{
 "cells": [
  {
   "cell_type": "code",
   "execution_count": 3,
   "metadata": {},
   "outputs": [],
   "source": [
    "import pandas as pd\n",
    "import numpy as np\n",
    "from scipy.sparse.linalg import svds\n",
    "import faiss\n",
    "import joblib"
   ]
  },
  {
   "cell_type": "markdown",
   "metadata": {},
   "source": [
    "### Загрузка данных"
   ]
  },
  {
   "cell_type": "code",
   "execution_count": 4,
   "metadata": {},
   "outputs": [
    {
     "name": "stderr",
     "output_type": "stream",
     "text": [
      "Downloading...\n",
      "From: https://drive.google.com/uc?id=1UgDwPShtfqq9QAk5GI5IX-2hhyErVbze\n",
      "To: /home/elias/zvuk/zvuk_test/rec_test_assignment_playlist2track.csv\n",
      "100%|██████████| 98.6M/98.6M [00:02<00:00, 42.7MB/s]\n"
     ]
    },
    {
     "data": {
      "text/plain": [
       "'rec_test_assignment_playlist2track.csv'"
      ]
     },
     "execution_count": 4,
     "metadata": {},
     "output_type": "execute_result"
    }
   ],
   "source": [
    "import gdown\n",
    "url = 'https://drive.google.com/uc?id=1UgDwPShtfqq9QAk5GI5IX-2hhyErVbze'\n",
    "table_name = \"rec_test_assignment_playlist2track.csv\"\n",
    "gdown.download(url, table_name)"
   ]
  },
  {
   "cell_type": "markdown",
   "metadata": {},
   "source": [
    " ### Чтение данных"
   ]
  },
  {
   "cell_type": "code",
   "execution_count": 5,
   "metadata": {},
   "outputs": [],
   "source": [
    "df_full = pd.read_csv(table_name)"
   ]
  },
  {
   "cell_type": "code",
   "execution_count": 6,
   "metadata": {},
   "outputs": [
    {
     "name": "stdout",
     "output_type": "stream",
     "text": [
      "(2000000, 3)\n",
      "playlist_id    714818\n",
      "track_id       169548\n",
      "track_uri      169548\n",
      "dtype: int64\n"
     ]
    }
   ],
   "source": [
    "print(df_full.shape)\n",
    "print(df_full.nunique())"
   ]
  },
  {
   "cell_type": "markdown",
   "metadata": {},
   "source": [
    " ### Сборка словарей для матчинга track_id и track_uri"
   ]
  },
  {
   "cell_type": "code",
   "execution_count": 7,
   "metadata": {},
   "outputs": [
    {
     "data": {
      "text/plain": [
       "['track_to_id.pickle']"
      ]
     },
     "execution_count": 7,
     "metadata": {},
     "output_type": "execute_result"
    }
   ],
   "source": [
    "df_tracks = df_full.drop(columns=['playlist_id'])\n",
    "df_unique = df_tracks.drop_duplicates(['track_id'])\n",
    "df_unique = df_unique.set_index('track_id')\n",
    "unique = df_unique.to_dict()\n",
    "\n",
    "id_to_track = unique['track_uri']\n",
    "track_to_id = dict((v,k) for k,v in id_to_track.items())\n",
    "joblib.dump(id_to_track, 'binary/id_to_track.pickle')\n",
    "joblib.dump(track_to_id, 'binary/track_to_id.pickle')"
   ]
  },
  {
   "cell_type": "markdown",
   "metadata": {},
   "source": [
    " ### SVD"
   ]
  },
  {
   "cell_type": "code",
   "execution_count": 8,
   "metadata": {},
   "outputs": [],
   "source": [
    "df = df_full.drop(columns=['track_uri'])"
   ]
  },
  {
   "cell_type": "code",
   "execution_count": null,
   "metadata": {},
   "outputs": [],
   "source": [
    "n_track = df['track_id'].unique().shape[0]\n",
    "n_playlist = df['playlist_id'].unique().shape[0]\n",
    "print('tracks: {}, playlists: {}'.format(n_track, n_playlist))\n",
    "# создаём tracks-playlists матрицу\n",
    "ratio = np.zeros((n_track, n_playlist))\n",
    "for line in df.itertuples():\n",
    "    ratio[line[2], line[1]] = 1"
   ]
  },
  {
   "cell_type": "code",
   "execution_count": 58,
   "metadata": {},
   "outputs": [],
   "source": [
    "# определяем размерность матрицы треков\n",
    "dimension = 100"
   ]
  },
  {
   "cell_type": "code",
   "execution_count": 59,
   "metadata": {},
   "outputs": [
    {
     "name": "stdout",
     "output_type": "stream",
     "text": [
      "CPU times: user 13h 56min 42s, sys: 2h 1min 51s, total: 15h 58min 33s\n",
      "Wall time: 17min 21s\n"
     ]
    }
   ],
   "source": [
    "%%time\n",
    "# вычисление svd\n",
    "u, s, vt = svds(ratio, k=dimension)"
   ]
  },
  {
   "cell_type": "code",
   "execution_count": 61,
   "metadata": {},
   "outputs": [
    {
     "name": "stdout",
     "output_type": "stream",
     "text": [
      "(169548, 100) (100,) (100, 714818)\n"
     ]
    }
   ],
   "source": [
    "# размерности выходных матриц\n",
    "print(u.shape, s.shape, vt.shape)"
   ]
  },
  {
   "cell_type": "markdown",
   "metadata": {},
   "source": [
    "### Построение индекса в faiss"
   ]
  },
  {
   "cell_type": "code",
   "execution_count": 62,
   "metadata": {},
   "outputs": [
    {
     "name": "stdout",
     "output_type": "stream",
     "text": [
      "169548\n"
     ]
    }
   ],
   "source": [
    "index = faiss.IndexFlat(dimension)   \n",
    "index.add(u)          \n",
    "print(index.ntotal)"
   ]
  },
  {
   "cell_type": "code",
   "execution_count": 63,
   "metadata": {},
   "outputs": [],
   "source": [
    "# проверка что для любого вектора ближайший он сам\n",
    "for vec_id in range(5):\n",
    "    vec_0 = index.reconstruct_batch(vec_id)\n",
    "    D, I = index.search(vec_0, k=1) \n",
    "    assert I[0] == vec_id, 'created index is broken'"
   ]
  },
  {
   "cell_type": "code",
   "execution_count": 64,
   "metadata": {},
   "outputs": [],
   "source": [
    "# запись\n",
    "faiss.write_index(index, \"binary/index_spotify_d100.bin\")"
   ]
  },
  {
   "cell_type": "code",
   "execution_count": null,
   "metadata": {},
   "outputs": [],
   "source": []
  }
 ],
 "metadata": {
  "kernelspec": {
   "display_name": "Python 3",
   "language": "python",
   "name": "python3"
  },
  "language_info": {
   "codemirror_mode": {
    "name": "ipython",
    "version": 3
   },
   "file_extension": ".py",
   "mimetype": "text/x-python",
   "name": "python",
   "nbconvert_exporter": "python",
   "pygments_lexer": "ipython3",
   "version": "3.7.10"
  }
 },
 "nbformat": 4,
 "nbformat_minor": 4
}
